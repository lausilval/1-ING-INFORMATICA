{
 "cells": [
  {
   "cell_type": "markdown",
   "metadata": {
    "collapsed": false,
    "deletable": false,
    "editable": false,
    "nbgrader": {
     "grade": false,
     "grade_id": "9ee042",
     "locked": true,
     "schema_version": 3,
     "solution": false,
     "task": false
    }
   },
   "source": [
    "<h1> Matemática Discreta</h1>\n",
    "\n",
    "<h4> Grao en Enxeñaría Informática. &nbsp; &nbsp; Curso 2021-2022 &nbsp; &nbsp; &nbsp; (<i>2ª oportunidade</i>)</h4>\n",
    "\n"
   ]
  },
  {
   "cell_type": "markdown",
   "metadata": {
    "collapsed": false,
    "deletable": false,
    "editable": false,
    "nbgrader": {
     "grade": false,
     "grade_id": "presentación",
     "locked": true,
     "schema_version": 3,
     "solution": false,
     "task": false
    }
   },
   "source": [
    "## Breve explicación da proba\n",
    "\n",
    "A presente folla non é **.sagews** (*sagemath woksheet*), senón **.ipynb** (*jupyter notebook*). Coma nunha sage worksheet, se precisas abrir un grupo de execución, simplemente toca co rato na barra que separa dous grupos. Dado que os comandos corresponde a sagemath, para executar hai que pulsar shift + return, coma sempre.\n",
    "\n",
    "Nesta folla vaste atopar con celdas de comentarios (coma esta), celdas con funcións definidas por min (que non podes modificar) que debes executar para poder usar a función. Despois, hai celdas nas que se che pide definir unha función que veñen seguidas dunha celda con casos de test que deberá satisfacer a túa definición.\n",
    "\n",
    "A modo de exemplo, fíxate nas dúas celdas que seguen:\n",
    "\n",
    "```\n",
    "def restar(a,b):  \n",
    "    \"\"\"\n",
    "    devolve a resta dos números a e b   (Unha explicación do que se quere coa función)\n",
    "    \"\"\"\n",
    "    # YOUR CODE HERE\n",
    "    raise NotImplementedError()\n",
    "```\n",
    "\n",
    "```\n",
    "# algúns tests para comprobar que restar funciona como se espera\n",
    "from nose.tools import assert_equal\n",
    "assert_equal(restar(1,2), -1)\n",
    "assert_equal(restar(0,-5), 5)\n",
    "```\n",
    "\n",
    "Na primeira terías que definir a función `restar` con parámetros \\(a\\) e \\(b\\) que ten que devolver \\(a - b\\). \n",
    "\n",
    "Tes que escribir o teu código no lugar indicado, eliminando a liña\n",
    "\n",
    "`raise NotImplementedError()`.\n",
    "\n",
    "Na segunda verás os tests que deberá pasar a túa función, `restar` [^1]\n",
    "\n",
    "- `restar(1,2) == -1`\n",
    "- `restar(0,-5) == 5`\n",
    " \n",
    "\n",
    "Na parte superior de cada celda de tests está a puntuación asignada a pregunta.\n",
    "\n",
    "[^1] *Podes abrir unha celda e facer ti outras comprobacións adicionais.*\n",
    "\n"
   ]
  },
  {
   "cell_type": "markdown",
   "metadata": {
    "collapsed": false,
    "deletable": false,
    "editable": false,
    "nbgrader": {
     "grade": false,
     "grade_id": "ad916a",
     "locked": true,
     "schema_version": 3,
     "solution": false,
     "task": false
    }
   },
   "source": [
    "# Exame\n",
    "\n"
   ]
  },
  {
   "cell_type": "markdown",
   "metadata": {
    "collapsed": false,
    "deletable": false,
    "editable": false,
    "nbgrader": {
     "grade": false,
     "grade_id": "qst_1",
     "locked": true,
     "remove": false,
     "schema_version": 3,
     "solution": false,
     "task": false
    }
   },
   "source": [
    "Lembrarás que, aparte da orde, a diferencia entre unha **lista** e un **conxunto** é que as listas poden conter elementos repetidos, e os conxuntos non. En `SageMath` a partir dunha lista $L$ podemos definir un conxunto facendo _Set_\\($L$\\), ```Set(L)``` pero o resultado non será unha lista, senón un conxunto. Pretendemos facer algo similar pero que dea como resultado unha lista, **sen utilizar** *Set*.\n",
    "\n",
    "Podes utilizar as funcións e métodos que aprendimos para o manexo de listas,  como  [$x+3$ **for** $x$ **in** $L$], $L$ **+** $M$, [$x$  **for** $x$ **in** $L$ **if** $x >3$ ], $L$**.append( )**, **len(**$L$**)**, **sorted(**$L$**)**, etc.\n",
    "\n",
    "## Pregunta 1. &nbsp; &nbsp; &nbsp; &nbsp; &nbsp; (2 ptos.)\n",
    "\n",
    "**Definir** a función **S** para eliminar as repeticións e ordenar unha lista de números. É dicir, collida unha lista $L$, **S(**$L$**)** será a lista formada por todos os elementos que aparecen en $L$, pero sen repeticións e ordenada. Por exemplo, **S(**$[3,1,2,1]$**)** = $[1,2,3]$\n",
    "\n",
    "<p><hr width=\"50%\" color=\"green\" size=\"10px\" /></p>\n",
    " <h6> Lembra:\n",
    "<ul>\n",
    "        <li>Empeza a escribir <strong>debaixo</strong> de onde di &nbsp; # YOUR CODE HERE,</li>\n",
    "        <li><font color=\"red\">Borra a liña&nbsp; &nbsp;<strong> raise NotImplementedError()</strong></font>,</li>\n",
    "        <li> <strong>Non</strong> repitas def S(L) ...  nin cambies o nome da función.</li>\n",
    "    <li> Non utilices <i>Set</i></li>\n",
    "    </ul> \n",
    "</h6>\n",
    "\n"
   ]
  },
  {
   "cell_type": "code",
   "execution_count": 277,
   "metadata": {
    "collapsed": false,
    "deletable": false,
    "nbgrader": {
     "cell_type": "code",
     "checksum": "7acf5848189d5241317eea694430a39d",
     "grade": false,
     "grade_id": "answ_1",
     "locked": false,
     "schema_version": 3,
     "solution": true,
     "task": false
    }
   },
   "outputs": [
   ],
   "source": [
    "def S(L):\n",
    "    \"\"\"\n",
    "    Devolve unha lista cos elementos de L sen repeticións e en orden.\n",
    "    Lembra eliminar a liña raise NotImplementedError()\n",
    "    \"\"\"\n",
    "    # YOUR CODE HERE\n",
    "    sol =[]\n",
    "    for x in L:\n",
    "        if not x in sol:\n",
    "            sol.append(x)\n",
    "    return sorted(sol)"
   ]
  },
  {
   "cell_type": "code",
   "execution_count": 276,
   "metadata": {
    "collapsed": false
   },
   "outputs": [
    {
     "ename": "IndentationError",
     "evalue": "unexpected indent (<ipython-input-276-6f0e609ec436>, line 2)",
     "output_type": "error",
     "traceback": [
      "\u001b[0;36m  File \u001b[0;32m\"<ipython-input-276-6f0e609ec436>\"\u001b[0;36m, line \u001b[0;32m2\u001b[0m\n\u001b[0;31m    sol = []\u001b[0m\n\u001b[0m    ^\u001b[0m\n\u001b[0;31mIndentationError\u001b[0m\u001b[0;31m:\u001b[0m unexpected indent\n"
     ]
    }
   ],
   "source": [
    "L.sort()\n",
    "    sol = []\n",
    "    sol.append(L[0])\n",
    "    i = 1\n",
    "    for i in [0..len(L)-1]:\n",
    "        m = sol.count(L[i])\n",
    "        if m < 1:\n",
    "            sol.append(L[i])\n",
    "    return sol"
   ]
  },
  {
   "cell_type": "code",
   "execution_count": 0,
   "metadata": {
    "collapsed": false
   },
   "outputs": [
   ],
   "source": [
    "sol =[]\n",
    "for x in L:\n",
    "    if not x in sol:\n",
    "        sol.append(x)\n",
    "    sorted(sol)"
   ]
  },
  {
   "cell_type": "code",
   "execution_count": 278,
   "metadata": {
    "collapsed": false
   },
   "outputs": [
    {
     "data": {
      "text/plain": [
       "[]"
      ]
     },
     "execution_count": 278,
     "metadata": {
     },
     "output_type": "execute_result"
    }
   ],
   "source": [
    "S([])"
   ]
  },
  {
   "cell_type": "code",
   "execution_count": 279,
   "metadata": {
    "collapsed": false
   },
   "outputs": [
    {
     "data": {
      "text/plain": [
       "[1, 2, 3]"
      ]
     },
     "execution_count": 279,
     "metadata": {
     },
     "output_type": "execute_result"
    }
   ],
   "source": [
    "S([3,1,2,1,2,3])"
   ]
  },
  {
   "cell_type": "code",
   "execution_count": 280,
   "metadata": {
    "collapsed": false,
    "deletable": false,
    "editable": false,
    "nbgrader": {
     "grade": true,
     "grade_id": "test_1",
     "locked": true,
     "points": 2,
     "schema_version": 3,
     "solution": false,
     "task": false
    }
   },
   "outputs": [
   ],
   "source": [
    "# algúns tests que debe pasar a túa lista\n",
    "from nose.tools import assert_equal\n",
    "assert_equal(S([2,1]), S([1,2]))\n",
    "assert_equal(S([3,1,2,1]), [1,2,3])\n",
    "assert_equal(S([3,1,2,1]), [1,2,3])\n",
    "assert_equal( S([[3,1,2,1]]), [[3,1,2,1]])\n",
    "\n",
    "# para comprobar que non usas a función Set\n",
    "from unittest.mock import patch\n",
    "with patch('__main__.Set') as mock_Set:\n",
    "    S([1,2])\n",
    "mock_Set.assert_not_called()\n"
   ]
  },
  {
   "cell_type": "markdown",
   "metadata": {
    "collapsed": false,
    "deletable": false,
    "editable": false,
    "nbgrader": {
     "grade": false,
     "grade_id": "qst_2",
     "locked": true,
     "schema_version": 3,
     "solution": false,
     "task": false
    }
   },
   "source": [
    "## Pregunta 2. &nbsp; &nbsp; &nbsp; &nbsp; &nbsp; (1 pto.)\n",
    "**Utilizar** a función **S** para definir a función **U** que fai  a *unión* de dúas listas. É dicir, collidas dúas listas, $L$ e $M$, **U(**$L,M$**)** será a lista formada por todos os elementos que aparecen en $L$ ou en $M$, pero sen repeticións e en orden. Por exemplo, **U(**$[1,2,1,3],[2,4,3]$**)** = $[1,2,3,4]$"
   ]
  },
  {
   "cell_type": "code",
   "execution_count": 92,
   "metadata": {
    "collapsed": false,
    "deletable": false,
    "nbgrader": {
     "cell_type": "code",
     "checksum": "8ebf0ad266b88e031e7162224566ef14",
     "grade": false,
     "grade_id": "answ_2",
     "locked": false,
     "schema_version": 3,
     "solution": true,
     "task": false
    }
   },
   "outputs": [
   ],
   "source": [
    "def U(L,M):\n",
    "    \"\"\"\n",
    "    Devolve os elementos en L ou en M, sen repeticións e en orden.\n",
    "    \"\"\"\n",
    "    # YOUR CODE HERE\n",
    "    u = L + M\n",
    "    sol = S(u)\n",
    "    return sol"
   ]
  },
  {
   "cell_type": "code",
   "execution_count": 93,
   "metadata": {
    "collapsed": false
   },
   "outputs": [
    {
     "data": {
      "text/plain": [
       "[1, 2, 3, 4]"
      ]
     },
     "execution_count": 93,
     "metadata": {
     },
     "output_type": "execute_result"
    }
   ],
   "source": [
    "U([1,2,1,3], [2,4,3])"
   ]
  },
  {
   "cell_type": "code",
   "execution_count": 94,
   "metadata": {
    "collapsed": false,
    "deletable": false,
    "editable": false,
    "nbgrader": {
     "grade": true,
     "grade_id": "test_2",
     "locked": true,
     "points": 1,
     "schema_version": 3,
     "solution": false,
     "task": false
    }
   },
   "outputs": [
   ],
   "source": [
    "# Algúns exemplos para probar a túa función:\n",
    "from nose.tools import assert_equal\n",
    "assert_equal(U([1,2,1,3],[2,4,3]), [1,2,3,4])\n",
    "assert_equal(U([2,1,2],[]), [1,2])\n",
    "\n",
    "# test para verificar que se usa a función pedida\n",
    "# eliminamos S temporalmente\n",
    "old_S = S\n",
    "del S\n",
    "\n",
    "try:\n",
    "    U(L,M)\n",
    "# se dá NameError, é que usa S\n",
    "except NameError:\n",
    "    pass\n",
    "# se non o dá, non a usa\n",
    "else:\n",
    "    raise AssertionError(\"U non usa S\")\n",
    "# restauramos a función\n",
    "finally:\n",
    "    S = old_S\n",
    "    del old_S"
   ]
  },
  {
   "cell_type": "markdown",
   "metadata": {
    "collapsed": false,
    "deletable": false,
    "editable": false,
    "nbgrader": {
     "grade": false,
     "grade_id": "qst_3",
     "locked": true,
     "schema_version": 3,
     "solution": false,
     "task": false
    }
   },
   "source": [
    "## Pregunta 3. &nbsp; &nbsp; &nbsp; &nbsp; &nbsp; (2 ptos.)\n",
    "\n",
    "**Definir** a función **P** para determinar todas as *partes* dunha lista. É dicir, se $L$ é unha lista de números, **P(**$L$**)** será a lista ordenada de todas as posibles listas ordenadas que se poden facer con elementos de $L$ distintos. Por exemplo, **P(**$[1,2,1]$**)** = $[[\\,\\,], [1], [1, 2], [2]]$"
   ]
  },
  {
   "cell_type": "code",
   "execution_count": 281,
   "metadata": {
    "collapsed": false,
    "deletable": false,
    "nbgrader": {
     "cell_type": "code",
     "checksum": "3145351fa73805138a594a943e53d000",
     "grade": false,
     "grade_id": "ans_3",
     "locked": false,
     "schema_version": 3,
     "solution": true,
     "task": false
    }
   },
   "outputs": [
   ],
   "source": [
    "def P(L):\n",
    "    \"\"\"\n",
    "    Sendo L unha lista de números,\n",
    "    devolve a lista ordenada de todas as sublistas de L con elementos distintos e en orden\n",
    "    \"\"\"\n",
    "    # YOUR CODE HERE\n",
    "    l = []\n",
    "    sol =  []\n",
    "    m = S(L)\n",
    "    lista = Combinations(m)\n",
    "    return lista.list()"
   ]
  },
  {
   "cell_type": "code",
   "execution_count": 282,
   "metadata": {
    "collapsed": false
   },
   "outputs": [
    {
     "data": {
      "text/plain": [
       "[[]]"
      ]
     },
     "execution_count": 282,
     "metadata": {
     },
     "output_type": "execute_result"
    }
   ],
   "source": [
    "P([])"
   ]
  },
  {
   "cell_type": "code",
   "execution_count": 283,
   "metadata": {
    "collapsed": false
   },
   "outputs": [
    {
     "data": {
      "text/plain": [
       "[[], [2], [3], [4], [2, 3], [2, 4], [3, 4], [2, 3, 4]]"
      ]
     },
     "execution_count": 283,
     "metadata": {
     },
     "output_type": "execute_result"
    }
   ],
   "source": [
    "P([2,3,3,4])"
   ]
  },
  {
   "cell_type": "code",
   "execution_count": 284,
   "metadata": {
    "collapsed": false,
    "deletable": false,
    "editable": false,
    "nbgrader": {
     "grade": true,
     "grade_id": "test_3",
     "locked": true,
     "points": 2,
     "schema_version": 3,
     "solution": false,
     "task": false
    }
   },
   "outputs": [
   ],
   "source": [
    "# Algúns tests que debe pasar a túa función\n",
    "from nose.tools import assert_equal\n",
    "assert_equal(P([1,2,1]), [[ ], [1], [2],[1,2]])\n",
    "assert_equal(P([2,1,1]),P([1,2]))\n",
    "assert_equal(P([]), [[ ]])\n"
   ]
  },
  {
   "cell_type": "markdown",
   "metadata": {
    "collapsed": false,
    "deletable": false,
    "editable": false,
    "nbgrader": {
     "grade": false,
     "grade_id": "qst_4",
     "locked": true,
     "schema_version": 3,
     "solution": false,
     "task": false
    }
   },
   "source": [
    "## Pregunta 4. &nbsp; &nbsp; &nbsp; &nbsp; &nbsp; (2 ptos.)\n",
    "\n",
    "Imaxina que para camiñar podes dar pasos de 1 metro ou saltos de 2 metros.\n",
    "\n",
    "Coa cadea **'12112'** denotamos unha posible forma de camiñar 7 metros: primerio un paso de $1\\, m$, despois un salto de $2\\, m$, logo dous pasos de $1\\, m$ e finalmente un salto de $2\\, m.$\n",
    "\n",
    "**Definir** a función **ForCam** que toma como parámetro un número $n$ e devolve todas as formas posibles de camiñar $n$ metros con pasos de $1\\, m$ e/ou saltos de $2\\, m.$\n",
    "\n",
    "Lembra que, por exemplo, a cadea '121' podemos obtela como ''.join(['1','2','1'])\n",
    "\n"
   ]
  },
  {
   "cell_type": "code",
   "execution_count": 217,
   "metadata": {
    "collapsed": false,
    "deletable": false,
    "nbgrader": {
     "cell_type": "code",
     "checksum": "9bbe20c1b167639024935b3cd8b3574d",
     "grade": false,
     "grade_id": "answ_4",
     "locked": false,
     "schema_version": 3,
     "solution": true,
     "task": false
    }
   },
   "outputs": [
   ],
   "source": [
    "def ForCam(n): \n",
    "    \"\"\"\n",
    "    Devolve unha lista con todas as formas de camiñar n metros con pasos de 1 metro ou saltos de 2 metros\n",
    "    \"\"\"\n",
    "    res = []\n",
    "    for i in range(floor(n/2)+1):\n",
    "        res += [''.join(p) for p in Permutations('2'*i+'1'*(n-2*i))]\n",
    "    return res"
   ]
  },
  {
   "cell_type": "code",
   "execution_count": 261,
   "metadata": {
    "collapsed": false
   },
   "outputs": [
    {
     "data": {
      "text/plain": [
       "['1111', '211', '121', '112', '22']"
      ]
     },
     "execution_count": 261,
     "metadata": {
     },
     "output_type": "execute_result"
    }
   ],
   "source": [
    "ForCam(4)"
   ]
  },
  {
   "cell_type": "code",
   "execution_count": 218,
   "metadata": {
    "collapsed": false,
    "deletable": false,
    "editable": false,
    "nbgrader": {
     "grade": true,
     "grade_id": "test_4",
     "locked": true,
     "points": 2,
     "schema_version": 3,
     "solution": false,
     "task": false
    }
   },
   "outputs": [
   ],
   "source": [
    "# algúns tests para a túa función\n",
    "assert ForCam(2) == ['11', '2']\n"
   ]
  },
  {
   "cell_type": "markdown",
   "metadata": {
    "collapsed": false,
    "deletable": false,
    "editable": false,
    "nbgrader": {
     "grade": false,
     "grade_id": "rec",
     "locked": true,
     "schema_version": 3,
     "solution": false,
     "task": false
    }
   },
   "source": [
    "## Algoritmos recursivos           \\(3 ptos.\\)\n",
    "\n",
    "\n"
   ]
  },
  {
   "cell_type": "markdown",
   "metadata": {
    "collapsed": false,
    "deletable": false,
    "editable": false,
    "nbgrader": {
     "grade": false,
     "grade_id": "qst_5a",
     "locked": true,
     "schema_version": 3,
     "solution": false,
     "task": false
    }
   },
   "source": [
    "### Pregunta 5.a\\)           \\(1.5 ptos.\\)\n",
    "\n",
    "<p>\n",
    "Definir unha función <strong>num_cp</strong> mediante un <font color=\"red\"><strong>algoritmo recursivo</strong></font> que para $n \\ge 0$ nos devolve o numero de cadeas de $n$ bits cunha cantidade par de ceros.\n",
    "</p>\n",
    "\n"
   ]
  },
  {
   "cell_type": "code",
   "execution_count": 206,
   "metadata": {
    "collapsed": false,
    "deletable": false,
    "nbgrader": {
     "cell_type": "code",
     "checksum": "e3de9bb38bfffadf30d18f123997dac0",
     "grade": true,
     "grade_id": "answ_5a",
     "locked": false,
     "points": 1.5,
     "remove": false,
     "schema_version": 3,
     "solution": true,
     "task": false
    }
   },
   "outputs": [
   ],
   "source": [
    "@cached_function\n",
    "def num_cp(n):\n",
    "    \"\"\"\n",
    "    Sendo n un número enteiro non negativo,\n",
    "    devolve o número de cadeas de n bits\n",
    "    cun número par de ceros.\n",
    "    Lembra que se pide un ALGORITMO RECURSIVO\n",
    "    \"\"\"\n",
    "    if n <= 1: return []\n",
    "    else:\n",
    "        comb = [''.join(p) for p in Permutations('01'*(n-2),n-2)]\n",
    "        sol = ['00'+c for c in comb] + ['10'+c for c in ceros_pares(n-2)] + ['1'+c for c in ceros_pares(n-1)]\n",
    "    return len(sol)"
   ]
  },
  {
   "cell_type": "markdown",
   "metadata": {
    "collapsed": false,
    "deletable": false,
    "editable": false,
    "nbgrader": {
     "grade": false,
     "grade_id": "qst_5b",
     "locked": true,
     "schema_version": 3,
     "solution": false,
     "task": false
    }
   },
   "source": [
    "### Pregunta 5.b) &nbsp; &nbsp; &nbsp; &nbsp; &nbsp; (1.5 ptos.)\n",
    "\n",
    "<p>\n",
    "    Definir unha función <strong>ceros_pares</strong> mediante un <font color=\"red\"><strong>algoritmo recursivo</strong></font> para que para $n \\ge 0$ nos devolve todas as cadeas de $n$ bits cunha cantidade par de ceros.\n",
    "</p>\n",
    "\n"
   ]
  },
  {
   "cell_type": "code",
   "execution_count": 285,
   "metadata": {
    "collapsed": false,
    "deletable": false,
    "nbgrader": {
     "cell_type": "code",
     "checksum": "1ba703e89bdd8bc79a62f9d5768393fb",
     "grade": false,
     "grade_id": "answ_5b",
     "locked": false,
     "remove": false,
     "schema_version": 3,
     "solution": true,
     "task": false
    }
   },
   "outputs": [
   ],
   "source": [
    "@cached_function\n",
    "def ceros_pares(n):\n",
    "    \"\"\"\n",
    "    Sendo n un número enteiro non negativo,\n",
    "    devolve a lista de cadeas de n bits\n",
    "    cun número par de ceros.\n",
    "    Lembra que se pide un ALGORITMO RECURSIVO\n",
    "    \"\"\"\n",
    "    # YOUR CODE HERE\n",
    "    if n <= 1: return []\n",
    "    else:\n",
    "        comb = [''.join(p) for p in Permutations('01'*(n-2),n-2)]\n",
    "    return ['00'+c for c in comb] + ['10'+c for c in ceros_pares(n-2)] + ['1'+c for c in ceros_pares(n-1)]"
   ]
  },
  {
   "cell_type": "code",
   "execution_count": 212,
   "metadata": {
    "collapsed": false
   },
   "outputs": [
    {
     "data": {
      "text/plain": [
       "19"
      ]
     },
     "execution_count": 212,
     "metadata": {
     },
     "output_type": "execute_result"
    }
   ],
   "source": [
    "len(ceros_pares(5))"
   ]
  },
  {
   "cell_type": "raw",
   "metadata": {
    "collapsed": false
   },
   "source": [
   ]
  },
  {
   "cell_type": "code",
   "execution_count": 208,
   "metadata": {
    "collapsed": false,
    "deletable": false,
    "editable": false,
    "nbgrader": {
     "grade": true,
     "grade_id": "test_5b",
     "locked": true,
     "points": 1.5,
     "schema_version": 3,
     "solution": false,
     "task": false
    }
   },
   "outputs": [
   ],
   "source": [
    "### Algúns tests para probar a túa función\n",
    "from nose.tools import assert_equal, assert_in, assert_not_in\n",
    "assert_not_in([0,0], ceros_pares(2))\n",
    "assert_in('001', ceros_pares(3))\n"
   ]
  },
  {
   "cell_type": "code",
   "execution_count": 0,
   "metadata": {
    "collapsed": false
   },
   "outputs": [
   ],
   "source": [
   ]
  }
 ],
 "metadata": {
  "kernelspec": {
   "display_name": "SageMath 9.2",
   "language": "sagemath",
   "metadata": {
    "cocalc": {
     "description": "Open-source mathematical software system",
     "priority": 1,
     "url": "https://www.sagemath.org/"
    }
   },
   "name": "sage-9.2",
   "resource_dir": "/ext/jupyter/kernels/sage-9.2"
  },
  "language_info": {
   "codemirror_mode": {
    "name": "ipython",
    "version": 3
   },
   "file_extension": ".py",
   "mimetype": "text/x-python",
   "name": "python",
   "nbconvert_exporter": "python",
   "pygments_lexer": "ipython3",
   "version": "3.8.10"
  },
  "nbgrader": {
   "__altered": false,
   "__hash": -61565334,
   "_root": {
    "entries": [
     [
      "size",
      5
     ],
     [
      "_root",
      {
       "entries": [
        [
         "size",
         5
        ],
        [
         "_root",
         {
          "entries": [
           [
            "size",
            6
           ],
           [
            "_root",
            {
             "entries": [
              [
               "size",
               5
              ],
              [
               "_root",
               {
                "entries": [
                 [
                  "size",
                  5
                 ],
                 [
                  "_root",
                  {
                   "entries": [
                    [
                     "size",
                     5
                    ],
                    [
                     "_root",
                     {
                      "entries": [
                       [
                        "size",
                        5
                       ],
                       [
                        "_root",
                        {
                         "entries": [
                          [
                           "__altered",
                           false
                          ],
                          [
                           "__hash",
                           577993429
                          ],
                          [
                           "_root",
                           {
                            "entries": [
                             [
                              "size",
                              6
                             ],
                             [
                              "_root",
                              {
                               "entries": [
                                [
                                 "size",
                                 5
                                ],
                                [
                                 "_root",
                                 {
                                  "entries": [
                                   [
                                    "size",
                                    5
                                   ],
                                   [
                                    "_root",
                                    {
                                     "entries": [
                                      [
                                       "__altered",
                                       false
                                      ],
                                      [
                                       "__hash",
                                       1060190975
                                      ],
                                      [
                                       "_root",
                                       {
                                        "entries": [
                                         [
                                          "size",
                                          1
                                         ],
                                         [
                                          "_root",
                                          {
                                           "entries": [
                                            [
                                             "cocalc_minimal_stubs",
                                             false
                                            ]
                                           ],
                                           "ownerID": {
                                           }
                                          }
                                         ],
                                         [
                                          "__hash",
                                          317186325
                                         ],
                                         [
                                          "__altered",
                                          false
                                         ],
                                         [
                                          "cocalc_minimal_stubs",
                                          false
                                         ]
                                        ],
                                        "ownerID": {
                                        }
                                       }
                                      ],
                                      [
                                       "cocalc_minimal_stubs",
                                       false
                                      ],
                                      [
                                       "size",
                                       5
                                      ]
                                     ],
                                     "ownerID": {
                                     }
                                    }
                                   ],
                                   [
                                    "__hash",
                                    -120317616
                                   ],
                                   [
                                    "__altered",
                                    false
                                   ],
                                   [
                                    "cocalc_minimal_stubs",
                                    false
                                   ]
                                  ],
                                  "ownerID": {
                                  }
                                 }
                                ],
                                [
                                 "__ownerID",
                                 null
                                ],
                                [
                                 "__hash",
                                 -795794706
                                ],
                                [
                                 "__altered",
                                 false
                                ],
                                [
                                 "cocalc_minimal_stubs",
                                 false
                                ]
                               ],
                               "ownerID": {
                               }
                              }
                             ],
                             [
                              "__ownerID",
                              null
                             ],
                             [
                              "__hash",
                              471139346
                             ],
                             [
                              "__altered",
                              false
                             ],
                             [
                              "cocalc_minimal_stubs",
                              false
                             ]
                            ],
                            "ownerID": {
                            }
                           }
                          ],
                          [
                           "cocalc_minimal_stubs",
                           false
                          ],
                          [
                           "size",
                           6
                          ]
                         ],
                         "ownerID": {
                         }
                        }
                       ],
                       [
                        "__hash",
                        625508883
                       ],
                       [
                        "__altered",
                        false
                       ],
                       [
                        "cocalc_minimal_stubs",
                        false
                       ]
                      ],
                      "ownerID": {
                      }
                     }
                    ],
                    [
                     "__hash",
                     802427208
                    ],
                    [
                     "__altered",
                     false
                    ],
                    [
                     "cocalc_minimal_stubs",
                     false
                    ]
                   ],
                   "ownerID": {
                   }
                  }
                 ],
                 [
                  "__hash",
                  992337130
                 ],
                 [
                  "__altered",
                  false
                 ],
                 [
                  "cocalc_minimal_stubs",
                  false
                 ]
                ],
                "ownerID": {
                }
               }
              ],
              [
               "__ownerID",
               null
              ],
              [
               "__hash",
               124007067
              ],
              [
               "__altered",
               false
              ],
              [
               "cocalc_minimal_stubs",
               false
              ]
             ],
             "ownerID": {
             }
            }
           ],
           [
            "__hash",
            99387057
           ],
           [
            "__altered",
            false
           ],
           [
            "cocalc_minimal_stubs",
            false
           ]
          ],
          "ownerID": {
          }
         }
        ],
        [
         "__hash",
         420378726
        ],
        [
         "__altered",
         false
        ],
        [
         "cocalc_minimal_stubs",
         false
        ]
       ],
       "ownerID": {
       }
      }
     ],
     [
      "__hash",
      685034899
     ],
     [
      "__altered",
      false
     ],
     [
      "cocalc_minimal_stubs",
      false
     ]
    ],
    "ownerID": {
    }
   },
   "cocalc_minimal_stubs": false,
   "size": 5
  }
 },
 "nbformat": 4,
 "nbformat_minor": 4
}